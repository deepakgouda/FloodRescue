{
 "cells": [
  {
   "cell_type": "code",
   "execution_count": 80,
   "metadata": {},
   "outputs": [],
   "source": [
    "import numpy as np\n",
    "import math\n",
    "import matplotlib.pyplot as plt\n",
    "from pandas import read_csv\n",
    "from keras.models import Sequential, load_model\n",
    "from keras.layers import Dense, Dropout\n",
    "from keras.layers import LSTM\n",
    "from sklearn.preprocessing import MinMaxScaler\n",
    "from sklearn.metrics import mean_squared_error\n",
    "from keras.callbacks import TensorBoard\n",
    "from time import time"
   ]
  },
  {
   "cell_type": "code",
   "execution_count": 81,
   "metadata": {},
   "outputs": [],
   "source": [
    "def create_dataset(dataset, look_back = 1):\n",
    "    dataX, dataY = [], []\n",
    "    for i in range(len(dataset)-look_back-1):\n",
    "        a = dataset[i:(i+look_back), :]\n",
    "        dataX.append(a)\n",
    "        dataY.append(dataset[i + look_back, :])\n",
    "    return np.array(dataX), np.array(dataY)"
   ]
  },
  {
   "cell_type": "code",
   "execution_count": 82,
   "metadata": {},
   "outputs": [
    {
     "name": "stdout",
     "output_type": "stream",
     "text": [
      "        datetime  rainfall  waterlevel\n",
      "0  1/1/2013 0:10       0.0        0.21\n",
      "1  1/1/2013 0:21       0.0        0.21\n",
      "2  1/1/2013 0:30       0.0        0.40\n",
      "3  1/1/2013 1:30       0.0        0.49\n",
      "4  1/1/2013 1:40       0.0        0.59\n"
     ]
    }
   ],
   "source": [
    "dataframe = read_csv('./Data/flood_train.csv', skipinitialspace = True, squeeze = True)\n",
    "print(dataframe.head())"
   ]
  },
  {
   "cell_type": "code",
   "execution_count": 83,
   "metadata": {},
   "outputs": [
    {
     "data": {
      "text/plain": [
       "(109197, 3)"
      ]
     },
     "execution_count": 83,
     "metadata": {},
     "output_type": "execute_result"
    }
   ],
   "source": [
    "dataframe.shape"
   ]
  },
  {
   "cell_type": "code",
   "execution_count": 84,
   "metadata": {},
   "outputs": [],
   "source": [
    "data = np.array(dataframe)\n",
    "data = data[:, 1:]"
   ]
  },
  {
   "cell_type": "code",
   "execution_count": 85,
   "metadata": {},
   "outputs": [
    {
     "data": {
      "text/plain": [
       "array([[0.0, 0.21],\n",
       "       [0.0, 0.21],\n",
       "       [0.0, 0.4],\n",
       "       [0.0, 0.49],\n",
       "       [0.0, 0.59]], dtype=object)"
      ]
     },
     "execution_count": 85,
     "metadata": {},
     "output_type": "execute_result"
    }
   ],
   "source": [
    "data[:5]"
   ]
  },
  {
   "cell_type": "code",
   "execution_count": 86,
   "metadata": {},
   "outputs": [
    {
     "data": {
      "text/plain": [
       "(109197, 2)"
      ]
     },
     "execution_count": 86,
     "metadata": {},
     "output_type": "execute_result"
    }
   ],
   "source": [
    "data.shape"
   ]
  },
  {
   "cell_type": "code",
   "execution_count": 87,
   "metadata": {},
   "outputs": [
    {
     "name": "stdout",
     "output_type": "stream",
     "text": [
      "[[0.         0.02508961]\n",
      " [0.         0.02508961]\n",
      " [0.         0.04778973]\n",
      " [0.         0.05854241]\n",
      " [0.         0.07048984]]\n"
     ]
    }
   ],
   "source": [
    "data = data.astype('float64')\n",
    "\n",
    "scaler = MinMaxScaler(feature_range=(0, 1))\n",
    "data = scaler.fit_transform(data)\n",
    "print(data[:5])"
   ]
  },
  {
   "cell_type": "code",
   "execution_count": 88,
   "metadata": {},
   "outputs": [
    {
     "name": "stdout",
     "output_type": "stream",
     "text": [
      "(73161, 2)\n",
      "(36036, 2)\n"
     ]
    }
   ],
   "source": [
    "split = 0.67\n",
    "train_size = int(len(data)*split)\n",
    "test_size = len(data)-train_size\n",
    "train = data[0:train_size,:]\n",
    "test = data[train_size:len(data),:]\n",
    "print(train.shape)\n",
    "print(test.shape)"
   ]
  },
  {
   "cell_type": "code",
   "execution_count": 89,
   "metadata": {},
   "outputs": [
    {
     "name": "stdout",
     "output_type": "stream",
     "text": [
      "(73150, 10, 2)\n"
     ]
    }
   ],
   "source": [
    "look_back = 10\n",
    "trainX, trainY = create_dataset(train, look_back)\n",
    "testX, testY = create_dataset(test, look_back)\n",
    "print(trainX.shape)\n",
    "# print(trainY[:5])"
   ]
  },
  {
   "cell_type": "code",
   "execution_count": 90,
   "metadata": {},
   "outputs": [
    {
     "data": {
      "text/plain": [
       "array([[0.        , 0.0609319 ],\n",
       "       [0.        , 0.06332139],\n",
       "       [0.        , 0.06810036],\n",
       "       [0.        , 0.0692951 ],\n",
       "       [0.        , 0.06810036]])"
      ]
     },
     "execution_count": 90,
     "metadata": {},
     "output_type": "execute_result"
    }
   ],
   "source": [
    "trainY[:5]"
   ]
  },
  {
   "cell_type": "code",
   "execution_count": 91,
   "metadata": {},
   "outputs": [],
   "source": [
    "model = load_model('10_5.h5')"
   ]
  },
  {
   "cell_type": "code",
   "execution_count": 92,
   "metadata": {},
   "outputs": [],
   "source": [
    "units = 100\n",
    "drop = 0.2\n",
    "epoch = 5"
   ]
  },
  {
   "cell_type": "code",
   "execution_count": 39,
   "metadata": {},
   "outputs": [
    {
     "name": "stdout",
     "output_type": "stream",
     "text": [
      "Epoch 1/1\n",
      "73150/73150 [==============================] - 822s 11ms/step - loss: 3.1084e-04\n"
     ]
    },
    {
     "data": {
      "text/plain": [
       "<keras.callbacks.History at 0x7fd89252d470>"
      ]
     },
     "execution_count": 39,
     "metadata": {},
     "output_type": "execute_result"
    }
   ],
   "source": [
    "model = Sequential()\n",
    "model.add(LSTM(units, input_shape=(look_back, 2)))\n",
    "model.add(Dropout(drop))\n",
    "model.add(Dense(2))\n",
    "# model.compile(loss='mean_squared_error', optimizer='adam')\n",
    "model.compile(loss='mean_squared_error', optimizer='nadam')\n",
    "# model.summary()\n",
    "tensorboard = TensorBoard(log_dir=\"logs/{}\".format(time()))\n",
    "model.fit(trainX, trainY, epochs=epoch, batch_size=1, verbose=1, callbacks=[tensorboard])"
   ]
  },
  {
   "cell_type": "code",
   "execution_count": 93,
   "metadata": {},
   "outputs": [],
   "source": [
    "trainPredict = model.predict(trainX)\n",
    "testPredict = model.predict(testX)"
   ]
  },
  {
   "cell_type": "code",
   "execution_count": 94,
   "metadata": {},
   "outputs": [
    {
     "data": {
      "text/plain": [
       "(36025, 2)"
      ]
     },
     "execution_count": 94,
     "metadata": {},
     "output_type": "execute_result"
    }
   ],
   "source": [
    "testPredict.shape"
   ]
  },
  {
   "cell_type": "code",
   "execution_count": 95,
   "metadata": {},
   "outputs": [],
   "source": [
    "trainPredict = scaler.inverse_transform(trainPredict)\n",
    "trainY = scaler.inverse_transform(trainY)\n",
    "testPredict = scaler.inverse_transform(testPredict)\n",
    "testY = scaler.inverse_transform(testY)"
   ]
  },
  {
   "cell_type": "code",
   "execution_count": 96,
   "metadata": {},
   "outputs": [
    {
     "name": "stdout",
     "output_type": "stream",
     "text": [
      "Train Score: 0.16 RMSE\n",
      "Test Score: 0.16 RMSE\n"
     ]
    }
   ],
   "source": [
    "trainScore = math.sqrt(mean_squared_error(trainY, trainPredict))\n",
    "print('Train Score: %.2f RMSE' % (trainScore))\n",
    "testScore = math.sqrt(mean_squared_error(testY, testPredict))\n",
    "print('Test Score: %.2f RMSE' % (testScore))\n"
   ]
  },
  {
   "cell_type": "code",
   "execution_count": 97,
   "metadata": {},
   "outputs": [],
   "source": [
    "trainPredictPlot = np.empty_like(data)\n",
    "trainPredictPlot[:, :] = np.nan\n",
    "trainPredictPlot[look_back:len(trainPredict)+look_back, :] = trainPredict\n",
    "\n",
    "testPredictPlot = np.empty_like(data)\n",
    "testPredictPlot[:, :] = np.nan\n",
    "testPredictPlot[len(trainPredict)+(look_back*2)+1:len(data)-1, :] = testPredict\n"
   ]
  },
  {
   "cell_type": "code",
   "execution_count": 98,
   "metadata": {},
   "outputs": [
    {
     "data": {
      "image/png": "[encoded data removed]",
      "text/plain": [
       "<Figure size 432x288 with 1 Axes>"
      ]
     },
     "metadata": {
      "needs_background": "light"
     },
     "output_type": "display_data"
    }
   ],
   "source": [
    "col = 1\n",
    "plt.plot(scaler.inverse_transform(data)[:,col])\n",
    "plt.plot(trainPredictPlot[:,col])\n",
    "plt.plot(testPredictPlot[:,col])\n",
    "\n",
    "plt.title('Units = %d Dropout = %.2f Epoch = %d Split = %d%% Train = %.2f Test = %.2f' % \n",
    "          (units, drop, epoch, split*100, trainScore, testScore))\n",
    "plt.show()"
   ]
  },
  {
   "cell_type": "code",
   "execution_count": 99,
   "metadata": {},
   "outputs": [
    {
     "data": {
      "text/html": [
       "<div>\n",
       "<style scoped>\n",
       "    .dataframe tbody tr th:only-of-type {\n",
       "        vertical-align: middle;\n",
       "    }\n",
       "\n",
       "    .dataframe tbody tr th {\n",
       "        vertical-align: top;\n",
       "    }\n",
       "\n",
       "    .dataframe thead th {\n",
       "        text-align: right;\n",
       "    }\n",
       "</style>\n",
       "<table border=\"1\" class=\"dataframe\">\n",
       "  <thead>\n",
       "    <tr style=\"text-align: right;\">\n",
       "      <th></th>\n",
       "      <th>datetime</th>\n",
       "      <th>waterlevel</th>\n",
       "    </tr>\n",
       "  </thead>\n",
       "  <tbody>\n",
       "    <tr>\n",
       "      <th>0</th>\n",
       "      <td>7/4/2013 21:30</td>\n",
       "      <td>0.27</td>\n",
       "    </tr>\n",
       "    <tr>\n",
       "      <th>1</th>\n",
       "      <td>7/4/2013 21:40</td>\n",
       "      <td>0.26</td>\n",
       "    </tr>\n",
       "    <tr>\n",
       "      <th>2</th>\n",
       "      <td>7/4/2013 21:50</td>\n",
       "      <td>0.27</td>\n",
       "    </tr>\n",
       "    <tr>\n",
       "      <th>3</th>\n",
       "      <td>7/4/2013 22:00</td>\n",
       "      <td>0.28</td>\n",
       "    </tr>\n",
       "    <tr>\n",
       "      <th>4</th>\n",
       "      <td>7/4/2013 22:10</td>\n",
       "      <td>0.28</td>\n",
       "    </tr>\n",
       "  </tbody>\n",
       "</table>\n",
       "</div>"
      ],
      "text/plain": [
       "         datetime  waterlevel\n",
       "0  7/4/2013 21:30        0.27\n",
       "1  7/4/2013 21:40        0.26\n",
       "2  7/4/2013 21:50        0.27\n",
       "3  7/4/2013 22:00        0.28\n",
       "4  7/4/2013 22:10        0.28"
      ]
     },
     "execution_count": 99,
     "metadata": {},
     "output_type": "execute_result"
    }
   ],
   "source": [
    "testActual = read_csv('./Data/flood_test.csv')\n",
    "testActual.head()"
   ]
  },
  {
   "cell_type": "code",
   "execution_count": 100,
   "metadata": {},
   "outputs": [
    {
     "name": "stdout",
     "output_type": "stream",
     "text": [
      "[[0.04770318]\n",
      " [0.0459364 ]\n",
      " [0.04770318]\n",
      " [0.04946996]\n",
      " [0.04946996]]\n"
     ]
    }
   ],
   "source": [
    "data = np.array(testActual['waterlevel'])\n",
    "data = data.reshape((len(data), 1))\n",
    "data = data.astype('float64')\n",
    "\n",
    "scaler = MinMaxScaler(feature_range=(0, 1))\n",
    "data = scaler.fit_transform(data)\n",
    "print(data[:5])"
   ]
  },
  {
   "cell_type": "code",
   "execution_count": 101,
   "metadata": {},
   "outputs": [],
   "source": [
    "data = np.hstack((data, np.zeros(data.shape)))"
   ]
  },
  {
   "cell_type": "code",
   "execution_count": 102,
   "metadata": {},
   "outputs": [
    {
     "data": {
      "text/plain": [
       "array([[0.04770318, 0.        ],\n",
       "       [0.0459364 , 0.        ],\n",
       "       [0.04770318, 0.        ],\n",
       "       [0.04946996, 0.        ],\n",
       "       [0.04946996, 0.        ]])"
      ]
     },
     "execution_count": 102,
     "metadata": {},
     "output_type": "execute_result"
    }
   ],
   "source": [
    "data[: 5]"
   ]
  },
  {
   "cell_type": "code",
   "execution_count": 103,
   "metadata": {},
   "outputs": [],
   "source": [
    "look_back = 10\n",
    "predictX, predictY = create_dataset(data, look_back)\n",
    "predict = model.predict(predictX)"
   ]
  },
  {
   "cell_type": "code",
   "execution_count": 104,
   "metadata": {},
   "outputs": [],
   "source": [
    "predict = scaler.inverse_transform(predict)\n",
    "predictY = scaler.inverse_transform(predictY)"
   ]
  },
  {
   "cell_type": "code",
   "execution_count": 105,
   "metadata": {},
   "outputs": [
    {
     "data": {
      "image/png": "[encoded data removed]",
      "text/plain": [
       "<Figure size 432x288 with 1 Axes>"
      ]
     },
     "metadata": {
      "needs_background": "light"
     },
     "output_type": "display_data"
    }
   ],
   "source": [
    "col = 0\n",
    "plt.plot(predict[:, col]) # Blue\n",
    "plt.savefig('plot.png')\n",
    "plt.plot(predictY[:, col]) # Orange\n",
    "plt.show()"
   ]
  },
  {
   "cell_type": "code",
   "execution_count": 106,
   "metadata": {},
   "outputs": [],
   "source": [
    "import base64\n",
    "with open(\"plot.png\", \"rb\") as image_file:\n",
    "    encoded_string = base64.b64encode(image_file.read())"
   ]
  },
  {
   "cell_type": "code",
   "execution_count": 107,
   "metadata": {
    "scrolled": true
   },
   "outputs": [
    {
     "data": {
      "text/plain": [
       "'iVBORw0KGgoAAAANSUhEUgAAAbAAAAEgCAYAAADVKCZpAAAABHNCSVQICAgIfAhkiAAAAAlwSFlzAAALEgAACxIB0t1+/AAAADl0RVh0U29mdHdhcmUAbWF0cGxvdGxpYiB2ZXJzaW9uIDMuMC4wLCBodHRwOi8vbWF0cGxvdGxpYi5vcmcvqOYd8AAAIABJREFUeJzt3WlgVNXdBvBnJgs7RAgBCUtWtrCTBEFEFtkprwIK1GqtWmy1LnUruFsRKErdbZu61GrF2lf7qgRBILKDIYDKjixhDZCFNWSZmXveDzN3cu+dO/uEmTt5fl/MLLk5g5M8c875n3NMQggBIiIigzGHuwFERESBYIAREZEhMcCIiMiQGGBERGRIDDAiIjIkBhgRERkSA4yIiAyJAUZERIbEACMiIkNigBERkSExwIiIyJAYYEREZEgMMCIiMiQGGBERGRIDjIiIDIkBRkREhsQAIyIiQ2KAERGRITHAiIjIkBhgRERkSAwwIiIyJAYYEREZEgOMiIgMiQFGRESGxAAjIiJDYoAREZEhMcCIiMiQGGBERGRIDDAiIjIkBhgRERkSA4yIiAyJAUZERIbEACMiIkNigBERkSHFhrsB9SUxMREpKSnhbgYRkaEUFxejrKws3M3wSdQGWEpKCoqKisLdDCIiQ8nOzg53E3zGIUQiIjIkBhgRERkSA4yIiAyJAUZERIbEACMiIkNigBERkSExwChinTpfjYrK2nA3g4giVNSuAyPju2b+KgBA8YKJYW4JEUUi9sCIiMiQGGBERGRIDDAiIjIkBhgRERkSA4yIiAyJAUZERIbEACMiIkNigBERkSExwIiIyJAYYEREZEgMMCIiMiQGGBERGRIDjIiIDIkBRkREhsQAIyIiQ2KAERGRITHAiIjIkBhgRERkSAwwIiIyJAYYEREZEgOMVCRJ4J11h1BZYw13U4iIPGKAkcoXP5zA3Pw9uPGtDeFuChGRRwwwUmkSFwsASGgaF+aWEBF5xgAjlRizCQDQsjEDjIgiGwOMiIgMiQFGEW/t/tJwN4GIIpChAsxms6F///6YNGlSuJsStYQQAACTKcwNUVh/oCzcTSCiCGSoAHvttdfQo0ePcDejgYigBCMi0mGYADt+/Djy8/Nx9913h7spUU2EuwE6JCkSW0VE4WaYAHvooYewcOFCmM2GaTKFCPOLiPQYIg2WLFmCpKQkDBw40OPz8vLykJ2djezsbJSWcuI/WkiCCUZErgwRYBs2bMCXX36JlJQUzJgxAwUFBfjFL37h8rxZs2ahqKgIRUVFaNu2bRhaGj0iqYhDMMCISIchAmz+/Pk4fvw4iouL8cknn2DkyJH46KOPwt2sqBSJWcEhRCLSY4gAoysvgjpgHEIkIl2x4W6Av4YPH47hw4eHuxlRLPLCggFGRHrYAyMiIkNigBERkSExwEhXJFUhEhHpYYCRSiRON0Vim4go/BhgpMsUUXWIRESuGGBERGRIDDAiIjIkBhipcLqJiIyCAUYqUgQeaElEpIcBRircd5CIjIIBRirc+Z2IjIIBRiqRmF+R2CYiCj8GGKlwDoyIjIIBRiqcAyMio2CAkYqzB8adOIgowjHASIVFHERkFAwwUmF+EZFRMMBIJRLnwAT3ByEiHQwwUpHnwDgFRkSRjgFGKpwDIyKjYICRSkQOIUZgm4go/BhgpMIeGBEZBQOMVCROgRGRQTDASEViD4yIDIIBRirOIkRuhkhEEY4BRirsgRGRUTDASCUiqxDD3QAiikgMMFLhrhdEZBQMMFLhRhxEZBQMMFKRInEMkYhIBwOMVJzrwNgFI6IIxwAjFVYhEpFRMMBIRY4v5hgRRTpDBFh1dTVyc3PRt29fZGVl4dlnnw13k6KWvBcie2JEFOliw90AXzRq1AgFBQVo3rw5LBYLhg4divHjx+Oaa64Jd9OijhxckRRfzFIi0mOIHpjJZELz5s0BABaLBRaLhVsd1RO5iIO70hNRpDNEgAGAzWZDv379kJSUhNGjR2PQoEHhblJUcvbAIjy//rrmIFJm56OyxhruphBRmBgmwGJiYvD999/j+PHjKCwsxM6dO12ek5eXh+zsbGRnZ6O0tDQMrYwCjuCKpDkwvd1BPtx0BABw9nLtlW4OEUUIwwSYLCEhASNGjMCyZctcHps1axaKiopQVFSEtm3bhqF1xheRPbBIagsRRQxDBFhpaSnOnTsHAKiqqsKKFSvQvXv3MLcqOklC/d9IEEm9QSKKHIaoQiwpKcEvf/lL2Gw2SJKEW265BZMmTQp3s6JSXQ8sckIjclpCRJHEEAHWp08fbN++PdzNaBDk3Iqk0Iik3iARRQ5DDCHSlROJC5kjqTdIRJGDAUYqkTgHxvwiIj0MMFIJ5RzYxWoLxr26FntKLgR1HR6ySUR6GGCkIoVwHdj6n8qw99RFvLpyf3BtkoJuChFFIQYYqTjnwEIQGhZHGtqCHI9kD4yI9DDASEUKYRHH0fJKAMDKPWeCbFPQTSGiKMQAIxURwiHE8srQbPPEIg4i0sMAI5VQViFabKGZvGIZPRHpYYCRSijXgVmsoQkexhcR6WGAkUrdHFjw1wpVDyySFlUTUeRggJFKKA+0rA3ZEGJILkNEUYYBRipyVoRkCJE9MCKqRwwwUpFCuQ7MxuAhovrDACOVkBZxsAdGRPWIAUYqcs8rFJkRsgDjVlJEpIMBRiqh3ImjxhqiIg4W0hORDgYYqYSyiKPaEqohxJBchoiiDAOMVITzOJXgr1VjtQV/EYArmYlIFwOMVEJ5nEpNyHpgTDAicsUAIxU5LGwRNQdGROSKAUYqzh5YCLInVEOI7IERkR4GGKnUzYEFHxoXq61BXwPgVlJEpI8BRip154GFtx1KPE6FiPQwwEgllOvAQiVyWkJEkYQBRiqhCrBQ9poiKUyJKHIwwEhFHjoMdiPeUC1iBjgHRkT6GGCk5ggLa5D7GG4/ejYEjbGLpPk4IoocDDBSkYfrLEGmxs/f+c75tckU1KVYxEFEuhhgpCIHWLA9MKU4c3BvM86BEZEeBhipSIoyeluIxu5izMF1wULVDiKKLgwwctp/+iLOXKh23g7VeV6x9RBg8rDi/tMXg7o2ERkXA4ycxryyFifP1wWYNUQ9n7jY4N5mntpx5z+KArpmyux8pMzOD7RJRBQBGGDkVqjmwYKs4YA1yJJ+IopOhgiwY8eOYcSIEejZsyeysrLw2muvhbtJDUKwa8Fk5ZW1QX1/qHqCRBRdYsPdAF/ExsZi0aJFGDBgAC5evIiBAwdi9OjR6NmzZ7ibFtWsodiSPgRsEdIOIooshuiBXX311RgwYAAAoEWLFujRowdOnDgR5lZFv0gZumMPjIj0GCLAlIqLi7F9+3YMGjQo3E2JeqGqQgxWpAQpEUUWQwwhyi5duoSpU6fi1VdfRcuWLV0ez8vLQ15eHgCgtLT0Sjcv6oSq59OuZaOgvp/rwIhIj2F6YBaLBVOnTsWtt96KKVOm6D5n1qxZKCoqQlFREdq2bXuFW2hcR8orsXL3aeft+Bj72yKYHljHq5o4vw42gPTm4kKVaRLDkciwDNEDE0LgrrvuQo8ePfDwww+HuzlRZ8TLq1WB0CjWjFqbFFQVok0SyE1tjaLiiqADTBL2oDErFkQHU2CiWqwtSWhkjgmqfbLV+86gQ0ITdG3XIiTXIyLPDNED27BhAz788EMUFBSgX79+6NevH5YuXRruZkUNbb7EOxYeB7MOzGITSG/bHHcNTQ3J0Sra4UxluPrbztx5q5xf11rt32uTBC5UW4JoIXDH+1sw5pW1QV2DiHxniB7Y0KFDuSP5FSQHWHA9MAlxMSbEO3pzwdL24pS3LTaB2AA7UfJrHP7ytzhWUYUfnh2DVk3igm4fEdU/Q/TA6MqKc8yBBTNMZ7UJxJhNaBQbA5skgt7VQ9sW5fyc3IsKxJ++3gsAOFZRBQDYdfJ8QNepstgCbgMRBYYBRi7qhhAD71VYJYG4GLPzWsH2wrRtUQ4p1tj8C49OresKTP5ddAzZc1c6bx8pvxxQ+6pqGWBEVxoDjFyEogrRKkmIMZuc1wqml6TXFu0Qoj9SE5urbpddqnF+vXRHSQCtA6rZAyO64hhg5MLZAwtiXscqCcSaTWgUZ79WTZABdqHa6vYxf8OxeSP3E2aB9sAuswdGdMUxwMhFXRFHYKFjkwSEAGLN5pD1wDydKSa3U5IEjpRXer2Wpx5bm+bx/jcO6jmwSNnBhCjaMcDIRaMgqxDlgotYRxUiEHwPzFNBiRyOHxcexfUvrcb2o2c9X8tDwAxOaxNQ+5QBfclDb5GIQocBRi7kXlOglYNywUWsowoRAGqswQ2x1Vrdh6lcILLtiD24DpV67oV5GhoNdM3awdJLzq9vfec7HFLcJqL6wQAjF84hxADnwOSAsJfRh2YIcfX+M24fk68t79QheVkz6GmI73xVYIuZ//XdEefXu0suYOSiNQFdh4h8xwAjF8HuxCEvOo8x1w0hBhtgC5ftc/uYM8Ac02TeAsxqE+jazl6J+KepvVWPfbbteEDtG9/r6oC+j4gCxwAjF3VDiIH1wOQSd7OprgcW7BzYtIEd3T4m96hinD0wz9eySALtWzVB8YKJmJ7TOah2yV5a7j5giah+MMDIRZxzCDGw0JEDxBzCHlha22ZuH5OvbTLZA8zbtk42SfJY1RiISX1ce2A7TwS2qwcR+YYBRi7kHligvQp5CM9sgqKII7gAq661oarWpjusKRdx+DOEGOoA653cyuW+SW+sD+nPICI1Bhi5iIux/3EPdP9kOUBiTIoemJ/bPSk1jjOj2iqhxzPLcO+/trk8LvfAYhw9MG9nfFlsknO/x1AJ1eGfROQ7Bhi5MJuC650o58BCMYRYbZHwzrpDAIBvFAdvyuT1as4hRC9ZYpUEYmPcv8ZA9jWU5+EOzZvg9/cSUWAYYOTCHOTwmlDMgYWqiKNz66ZuH6t1rDGTizi8Hb1jH0J0/9Y/V1Xrd/usNgGzKfh/OyLyHQOMXMSErAdWV5L/Yv6egK/XvX0Lj6cc12qqEL0VcdiHEOte487nx+LTewY7C0Xyf/R/Q9/6GJYkIs/4G0cugu1FSMJ1IXMwPbCm8TGorHW/PdO/txwDUDf0afPWA9MMITZvFIvc1NbOUv2PNh9x961uWWyCAUZ0hRniRGa6spQ9sKpaG5rE+3fcsRxgJlPdVlLBOHOxBsfPVrl9/KBj6yhnFaKXHpjVJukOIQ5JTwSwDyfOuf9Zbq8pSR7n1Ygo9PiRkVyYTcCjY7oCCKz4Qs6PYIciZZ7CCwDaNLPvIO/rQmb5qBetzCT77hyPjunmdxstbubVgj2JmojcY4ARtH/LrZLAVY5QCGQTXuUcWCj065Tg8XE5uHxZyCyEwOVaG/7v+xMuj8nDneWV/hdxWGwS4nV6YJU1PCeMqL4wwMilx/Laqp+CWoDsXMjsCJbu7d0XYPhCW9a+bOcp1e2+joCTA9NTFaIcbmWXXEMq1jGHlbf2kN9ttNok5/erfl6gi+mIyCsGGLmYNSxNUXzhfw/CWUbv6BHtPXURAFBZE9g5WdWaNpzXlLmvcKwNk3+up0XF8iN3DEkJqC3uWBSFIfOn1G0QXFFZE9KfQ0R1GGCE9i0bq253a9cCpy9UAwC2HT3n9/XcDSGu2uv+SBRPRnZPUt1es79U93lyz89TgMlta9uiUUBtccdqkxDnmAObmdsZD4zMAABc4hAiUb1hgBHiYtVJc6S8EgWOsFm4bK/f19MOIcoqLgXWG9l/+qLq9ukL+teRw8nTeV9yLy0mxAuOrTah+nfs19nzvB0RBY8BRs6eg+zfRcdwY79kAEC/Tlf5fb26zXxNjv/a7w+kOAIANhwoV90uVwRhp9ZN0Kl1E8fPtd/n6RgY5UbDelo1iQMAnL/serDl/tMX3RaI1GpK85vE2VeoBLItFRH5hgFGLr2R+FgzhmS0AQCs3OO696A32jL6Ns3tw3VlAfbAtMb2au/8ull8rLPUv24IUcL2o2ddjjMRQqDaYg8Ud/s93nltKgCg4rI6bJftLMGYV9Yi/Ymlut+37qcyfH+sbrhVng87GcCaMiLyDQOM0DhOvdhY/iMeKO0cmBwaiwuPBXS9u4aq26PsMTaNj3Fu5is5hxAFbnp7o8txJo98+gMGzl0JoK7kXksO2f9uV5fZv7eh2K82yz2v3SUX/Po+IvIdA4xcjOreDi0axwX8/do5sIvVgVUfyp6a2EN1WznHte3oOVRU1uJwWaWzZP2czvAfAHyuCCV3Q4hTBtiHTrM6tFTdX3i4wq82pyba91XscXVLL88kokAxwAgC6nmdzm2aOueCAO+7u2vJBznLw3QjurV1PnbH+4VImZ2PpTt83zBX21v6m846rREvr3YWaPgy7OmuiKNZI/vcladCEF/I4f1mwU9BXYeI3GOAkTNw3PF3MXPdZr72269O7+98bPU+ewm83sGUnvhS9i4PXaa0cX/0iszdEGJjxwLuT4uO6z4e7+OGvXLoF5df9un5ROQ/BhjBXf9qRk4nAHXHlfjKptjMFwBaNXUdjpSPLvHV5jmjUPDI9S73vzajn/NrOTgtiirEc5f1Kx/dDSE2jrP/SqzVrDUb07MdAN//LZrEBb+JsTebDpa7LDEgakgYYAb3wpLd+HRLYMURMndDhPI8kL8b+srX87SZ7yHHDvK+ijGbkNa2ucv9vZJbOb+WA0wZMv3+uEJ3d3p3VYiN3ARPVodWuve7I1de5qa09uv7/DHz75sx5pW19XZ9okjHADO4d9cfxuOf/RjUNdxNce0usX+6L/BzBw2bZg5MT+9k/wJBpt1XUfkT5KHQ0ovqcv2vfjzpch134Sr3wIC66knAXprvr/6dE7Dv9EXc+6+tQX3IeGPVT9h9ktWMRFqGCbA777wTSUlJ6NWrV7ibEhUsNgmr99mDSVvEIVtceBQA8Pj/+heQdVWI7p+zQ7NGy1d/GNdddVs5l+Vu49wHP/ne5T532aqc4zpaUTd/5e8wKgBsP3oO56ssWLrjVMAfMs5ftmDRiv2Y8Po6t8/hYmlqqAwTYHfccQeWLVsW7mZEFH+rA5XeKDiAO97fgg0Hyryen+UvybkOzPN2TZc9nLLsTkqieu5M+RMuVOmXz8uUez66a5vJZEJic/tRMgfOXHLeb7F6PqLFF4H8/5qet0n3fuWw6IVqz6+bKFoZJsCGDRuG1q3rbz7BiC4H8cn7hOOQyMf/90e3JePjstrr3u+NcycORaVEt3auR6r0fGa539eO05y5pcyhb3a7L5+3nwNWF5ieeofPT7b38g+X1c3TKYcQtXNqFxzr3JITmri/KICFy/d5fFyPu3VklxXDm8fPstKRGibDBBi5Us7R+CvecVzKiXNVOOKm1DsnNbAPDDad/Qbf+1VOQNfSahYfq7ptgvtenvLIlI82H3EGjb1t7r9Pbv9LjsCxSQLHFMOJZzWVjfLu+Ce8bBv10aYjHh/Xo11QLXvi8x3Or/N/PKX7HKJoF1UBlpeXh+zsbGRnZ6O0VP/IjWgSTA/Ml+VMwzITnV/7M/wlNGX0gH7vpEWjWJf7vJFPinZeo7H7a1ybUdf+p7/YpXrMU4B9tlW9Bmzym+vx7b6699OIl1erHv/JUcp+dSv1sTS/v6Gr6vbFAM5Du6ppvO79yt5hh4TGus+h6HPfx9swatHqcDcjYkRVgM2aNQtFRUUoKipC27ZtvX+DwVUF0QNrGu89PDIVw36PfPqDz9eWfCijB+x/0H/z4Vafr6vnqmbx+PCuXN3HYsxAu5b6C6A9VRXe4FjzJdulqQC8oNka642CAwBc17ZN7tfB7c/w1etudvK433HeGOB9rpGiR/6PJTjo5xKUaBZVAdbQKNdSuTvmwx1tb8GbzzWb23qi3UrKk2W7/B/+enV6P9Xt6zL1P6yYTSbcPTRN97GHPQTybdd0cX7tT89TWw2YmujfYm09P8/trHu/8tDOEB9tRmQYhgmwmTNnYvDgwdi3bx86duyId999N9xNCjtlL6LCz7O2fA28wWlt/LouUNcDc5dfL03ro7rtbrcMd27sn4y82wZi9x/HenxejNmEXw9L090Vo6mPO2Xc+PZGn9v10d2DXO5bMKU3FkzpjQ6ODwxnHCdd+2r+1/oHiioLb6r9XGhOFC0ME2CLFy9GSUkJLBYLjh8/jrvuuivcTQo75ZolXzaf3VNyAVPe3oC8tQedIeNNbIz/H++3HT2n26Z1j4/AiG5tcXN2J9X9f1/nujmvN2Oy2nsdBpWrIJ+e1NPlsUof5w9/OHYOUwd09PicXsn2Qgu99szI7YwZuZ1x8rw9uHLnrfLp53qjPLTzjJsTqominWECjFwpN5z1paBj/GvrsO3oOcxbuhe+rstV5tzrq3zbWX3DgTIAQGWNuk2dWjfF+7+yz1ct/vU1zvsDOfVZa2xWO5f7tjuC9OeDXIfhtEe0aPXtWLdTiHKhtzxcpzyocueJK7NLhrJ8X9n7fm/D4Svy84kiDQPMALYfPYuU2fk4ea5KtS/heMXJxBf9XMwq98DkdVXuNtftrfhD/ucV+3269q+vsx9A2d7DPNvg9LqhyV//s8in63qi18vqotiVPtaRPIfmTcDHvx7k9dDO//xmiPPrz7fZ5/9evrmvc43bkAUFAPyfewxGqeJEa+WGxdTwVAZQ0RqNGGAGcJNjHmbIggJ0fepr5/3KT+Hayjhv5D+8LR0HV7rbXPeR0V117/dE/tPqrbjgGZ3QCVS7lq5hmZZYt/nvsoeuw4s39YLZbMKQ9ETneV3uyOvklKYNdB1KfPCT7QG0NjDKP1pWTRfa3w8wZGxZz/q/CUA0YoAZmPKcrm992HC3uWLdlfwHcIyX3TZiNQvGyi7V4M/f7MP7HoatfN1KarjioMtgP1HG6Sxs66lYBJyR1AK3Duri8hxf5aTYhzm1BSjVFv8LKF5d6VtPVuuzbXVDxtoemNxLDDWLTcK+UzyyhSITA8wAtAc0yuFTo/jjufXIWa/XUe60/nrBAZhNwHIfytiVw4vZc1fi9YIDeP6r3W6fL4+qeQswZQC/5uP8mjeD09pg9aPD8dlvh3h/sh+2FNv/fZUFKDtPnHfOhSnPJdNzo2JN2KsrfX+tE3tf7fy6e/u6QLZo1rEVHq7w+Zr++ONXuzH21bU4cIYhRpGHAWYAOZozpYocYVVjrSuS+Fnfq+GNdromxmxCSw87WcgKHhmue7+7NVJ/XGIPN5OXd5eyR5i31v9KRK3iBROxeNY1SElshoFdgi8M+cutAzw+PumN9dhdYi/gkIdi3Xnp5r5ef54kCcz5fIfqkErlfpJLFMfCWDU9sOu71c/C/W1H7e81VjpSJGKAGYC2GELODWUPpqrW+1BWs0bqtU8Wm8CDN2QCABJ0Tk32ptjNHooybwX4nVqre5Yps/Od69mC2Wk/VMb39v6hQDasq+cA0Q5xPvxv1yNe9p66iMWFR1WHVH75Q11ofbu3bjsruRe+/g8jAPh/5I2vTjnK/wM9/oZCS/49zUhyPdy1IWKAGUCMpuBA/uNebbE5F+n+dc1Br9fpdFVTl/tu7JeMF27shW/d9LI8KfGyea0vO3G01xRfDHhhBQDX3mKk0/4/8kZvZ5NTFzz/e9baJOw9dQHll2pgkQTiYkxu90oMlXLHB4pj3PE+IsjVtPKRPw0dA8wAtKXaP3/nO5yvsmDniQvO/RB92RfRJgnkprZWbaxrMplw2zVdXDbJ1dIeJCm3wxNfFkvn3T7Q5b6Kylqc9nPHivqyb+445Ka0xn/vrZtTK14wMaBrKde+6UnwIYzGvboOA+euhNUmIdZsVgWn8vwyJSEEbv7rxoCOXWnkqMbkidCRQd5CrJa7rwBggBmCVac7cvzsZWw6VK5+npfVyTZJINZs8rhrR26K/hEqvx2e7kNL7eS1Zc192G2+T8cEl/sGvLAiYg5pbBQbg09/Mxj9Owc/p6Zc+wYAf1mt7jX7szt/tUWCTQhVL/eGP6/RfW7qnKXYUnwWQ//0rR+ttZOHqeXdVa6EE+eq8PC/vw/quKBoJX+YDeSE8GjEAIsgf1l9UPdTtPYARXf2lNgn///13RGs1Dnc0SYEYswmnHdzcvFPL47H4lmeewlag+evcglOucTbFMQu6c/83y7vT4oQ/oT74fkTnF//aZl6n0Plv5dcyJGTchWGpLvuR/nh5iOotUq669WM7sX83fh8+wms2nMGQgivH8xW7zuD0osNo8jExh6YSvS9+w2q1irhT8v26n6KtkoCzRvFYvlDw5z3fX/M9RPxKcew25P/3Ym7dXa3kCT7J/YaN2/+uBizx7mcXc+Pxfu/ylENQZacr8b7G4rdfo8v5DVWSoXF9VMWHmov3NhLd3jVHW2o/6SoOFQOFf+v40wyqyT8ml9TVqbquZI7h/jqYOklvLR8r3NuN9ZxXHatzYZXVuxHxpNfq07TVrJJAne8vwU5L668Yu0NJ/n/3/7TlzAzbzOOll/GtQsKUHLe8/xptGKA6Th3uRZT3t6Ao16q7EJJ7w+PJAks+mYfTp2vRozZpDqe48n/7kSv5JYY2T0JbzvKvb3NOck9sEA1axSLEd2SsOLhYar7X1y6R3Vicdd2zXX3JnTnjZkDcM/1+seeRKrtT49G4ZOjVEevBGL0K2ud/3bKcJGXFUiOAMt/YKjbayjn57o9tUz1mBACnRXVnulPLA2qvfVh1KI1eOvbg86tsuS3qBDAPzfbT7F2t2C80k2wRSvle2TToXL8q/AITpyrqreF7JGOAabjlRX7se3oObzh5jDB+qDcWUEeMtx+7BzeKDiA/B0liDWbEB9rVu1ecbnGhqbxMUhvay+p1R6psnRHieq2TVJXBm6YPTKgturtun7dwm+dn6Dtc22+v7Xat2qMOeM9b64baa5qFo+kFqE5Cfm6hfa5Kb3ekVUSiDGZcMTDhyntBxflEoS5+XtwtCI0H8S89e6CdeKsvRchv0clAVx0bJGmXISvpD2DLRgHzlzUHdmIFEIIl/nwOMfvmXZdYEPBANPxwSb7p77/aI6Wr0/KMW356Pmm8XXrtuRy5t9cXzffcrnWHmBypdicz3eornnvv7apfsHtn+aBj389CH9OyWSsAAAXvUlEQVT9xUDVUKC/9BZAZzxp36ex7FKt27PAPLnXj7kkI1v3+AiX+1Jm57uUqh8svQSbowfWJN79+WW1VvUfL2Uv69316i2/+nd2LZrxVX1/ypf3/DQ5A0w4Q/1Yhf4QmS/HCPnqhj+vxY1vbQjZ9UJNbwNneUTFFgHrJsOBAVaP8tYexLWOXcu9Uf4iyiXkep+qBqXWVQmeulCNFo3jEKeYyNdu6npSMTYuDyEOSU/EuF6e90D0Rm8hpU0SeDF/N85XWbDkxxKd7/Ls8XHdMSCIP7BG0fEq/Q8O9/5rm+r2qEVrUHapBjVWCWkeTnfWVntKwh6Iz32pLoTp07GV1x1DPAl0D0d/yUOINYoqxMNl+ksEInFOr74oj/WRyVuI+VroFW0YYPVo3tK9OHGuyqddJeRhJKDuPK1am+vwiLYIoF3LRqodL/afVv+iX66x4eS5KhyruOws4giFz347RHcx5d/XBXc21ef3XhvU9xuByWTCDT2SfHpu2aVarNlfii5tmuGd27OxYEpvl+f07tgKH9yZ63L/PzYWq27/ePw81uwvxeEy/ZMH9LRWrA88fQW2k6q22Jzv0ae/qAvgRz79Qff5ektMotXf1rhutyYvpWlI/w5KDDAd8qfdfp1C0xvwdtikds2T/EfDXbXg1Yqtpdq1bKw6SmTqXzaqnrtw+V4MWVCA6xZ+i0NllUEVcSiZTCYUPnFDSK7VEE3PsR+y6U8Z/A0922FGruvhnABwvZetrJRGvLza5+dq51Xre4uv7k8v0x1+dneCdn30wPwpUa+ssaoqSeuTp/P4qhpYMYuMAaZD3n29Q0JdMPR9/hv85sOtAV3vjJc1Khc067LKL9n/aNz+bqHu80vO1+1SkdSiscdQWvdTmep2TIh6YAC8nqkVqI2zR+K7J0ahSVyM15OTjWp0z3bYOHsk9s8dH/A1tDuCfPvo8CBbpSaH1eC0unVoj/xHvyfkC6tNwqB5K1F2Sf37oLw+AKzdXwqtXw7Wr/YM5RyY7ISXLdKUfvfxNox+ZW3A7Vi157Rzv8lgyPP2DQ0DTMfKPfazteRPYtUWG85XWbDMh6NHZMo3ZeHhcg/PVAcSYD+ocuLr63waFmjVxD6nMXWA62GLevT24KsPfRQnOfurQ0ITtGvZGHteGIe7rzNWeb0/OgRRRKMnNbGZqsjHk298eC/LRQPKhdT+FnLcv3g7Umbn42j5ZfT/4wqcvlCD7LnqNVuJLRqpbp/U+YN+/Kw6VHYcP49qi61eemB6BUops/ORMjvfefuDjcUY+fJqfLvPHrYX/TxQVnbXB0UYvGCVX3NY94/M0L1f28aGgAHmgRxk2l84Xyg/xWn3uKu22PD0/+107jCg/aMwb+le7PKw99x/fjPY+XV6kr23eFP/ZNVzmnmoWgulrU/pDyMu1Bz8SO5p/61WatbZaT04KtPtY7PH6y+q/uI+9dzirA+34pPCox5/zpFy+1zZIg9DV9585dhN//b3vnNW12rZJO+9l1WKA1sPlV7Cz95cj+5PL6uXykg5S6w2CbM/+1H3tOtnv9yFQ4q5xEC2vZLDVwjg2j95L/bq3r4FGseZ8ciYbh6flzI7H5sOev7QHC0YYF787uNtuKT4xbtYbXH7aWnrkbM4XFaJqlqbag3Z4bJK7D55AduOnkWN1YbuTy/Dh5uPIOPJr2GxSVjs5Q8JAOz54zjn1zkprbFv7jjsfH4sGsXag0o7hDF/6pUJkDbNG+GnF12HwZSHL5JntygOyRyc1gYZSS3Uu648M1r1/N+P7ur3hsJ9OyXgn5pCj9mf78DNf93o9jTsPW5OYv4hgLVS2qN3lNtD+bqGSZ6PUy4NUBaqFOx13T4tEPLQ6ezPd+CTLcfQ+7lvvH6PtofoC+XvbMn5akiSwD82HMbt7xXCJgmcvlCt2tS6aXwMsrvo71WqNf/rPX63x4gYYDqU66O05eC9n/sGaU8sxRffu37ym/qXjRjx8mq8/M0+rN5XN46/4Ou9mPD6Okx5e6PLgtRPthzzqU3adUCNYmNU5dPaSfxiPyrNgqU964oCJ+9F2a19CxycNwE7nx/r0y71vtA7s2xL8VlkPbtctzijqeOonud+1lM1RP0/Pq6V8jQsNlixvEQSAlkdvH/g+d3H9mUG7gL36RDtnyk3W/k7LHM313XL3zb5/XO0RVp/WXMQz321G2v3l2L2Zz9i0LxVGDRvler58prPTq09Dz8Hs8bTSPiXR4cvOz3n/1iCGqsNZy7aPyGdv1w3zKBdPKp07rJ6OEJZPbTy4ev9baqT2WxS7cm3xc1egk9OqJ+iiHFZ7Z1/hF64sVe9/IxotnBaH5fhvxizyacd/bWKF0zED8+Mcd7u3r6F1+9JnbNUtR0YUPc+XrrjFJ7/nyzVY/Lp0BZHYYbe3Euah22rlJvvWh2nJHz76HC85GHoeePBclhsEi7V6A/XTRlgH0Z/7stdWK8pXvKHvLNJW83cHABkPvk1ujoW7Hu8hiRcilW0tNWOO47XHRqq3UThl+8VYtfJC2jk2JFk3eOed9FpKAHm/29HA+BLRZHZZHLuO3do3gRMz/PtE5h2O57UxLoFwelt9Rerrn3MdecGPb8dnu7c4Xyz5qiV1MRmOFxWGfLCAdlfb3M914t8pxxGDIVWTePQplk8yitrfa6QU65FvKl/snONUVysa5D+7uPt+HzbCRQernAOsV+utepuM+bOvlMX0a19C5w6Xw0h7O/R9i0b4zEPp0u/u/4wru+aiJV7XIcL3yg4gDcKDgCwDy0Gem6bHGDxMfpVtu4+4O4+eQHNG8Vi2EvqY2uU7bDaJFglgcZxMVj3k2sPT/fnWSWscVRmylMG3gzNTPTpeUbHANOh7SXpUVYkdn96mc/n89ymKY3/aHNd+avJZELXds1Vi5HvGJKCzm1cT1L25v6RmWjROBbPf7UbAFDwyPXYfKgC16T5NoZOxrfuDyPQ85nl+J2iau3w/AlIneN9Q9//KqpVM5PsPbisDi1VxUUFisIKAOj5zHJsnD0SHRKaoMiH0wTGvroW07M7Ya9irs3burgFX+/1+LhStcWGxnH+FzPJ56Z1aOXfXpcTXl+ne//5Kgt2nTyPn/+97gDYwidHuUwnuKty/vu6ugXMcW5CVUveHzXaMcA05HH7zq2b+rwJajCHy63RrHl5+9YBuOHPa523eyX7V45+/8gMvFFwALcP7oKEpvG4WG3F4PQ2MJlMLgcqUnRrGh/r0gsxmUyYM7475vsRBHJZ+ZzxPfCLdz2fwj1kQQGGd2urO3+k599F6jngUC20B+wfLF++uS+mDfS+xKTfH10LNfTK+QPR93nXa+e+uErnmfpeWr7P+bWvmw03lHnphvEq/bBohf3NotxC50qqqlWHYSc3++a58/sbumLHc2OcE/8PjMpEjptTlqlhuuf6dBQvmIhPfDy8dIqjgKOnD4UWgGvxwxw3pf3udGvXAjNzQzOk+uh/fkDK7HwMeGEFUufk4zvN0LokCSzdUeLTqEsk0G4VB9hHV7Ta+9l7NCr2wDT+6VjRHqpjFb75/TCMeWWt9yc69NYsAB6U5l+vyWw2oUUQG7ZSw3FNWhsUPjEKufM89wZSHFurtW4Wj18O7uL3rg/XZbbF/K/3Ij7GjP0vjve62Hb57+1LCG4d1AWT3liPUd2TVOvAZBP7XI18HzeNlkvwp+dt9qvtkUzuXctzkNOzO6FV0zi/PzAYGXtgGu5W1L//q5yArte1XQsUL5iIJyZ4flMpd66QF6r29nP4kMhfSS09f1LXlms3DaAqsmeHliheMBH7ddYLyvR6XL2SW6F4wUTk3Z6t+z1v/XyA322JRs0b2YeK/zStD56Y0MNlw+9oxgDTkPfeG5fVHr+6NsV5/4huSRjY5aqAr/trzZZIH901SHX78bF1ASf/nBHdfduxnCgYPzw7BkvuH4r8B4bisbHqXR5majYP9rdactMc13Jvvf0fZ49zv7wjxmzSPUMNsC/y1u4yciWs/8MIvD6zPx4f53lXjFDzdauwhoIBprHfsbP0sl2n8OzP1GtfXp/ZP+DrmkwmFD45ynm7WSN1ddQhxXlHw7q2xXt3ZOMBN3ueEYVSqyZx6JXcClkdWuG+ERl4elJPDM1IxFMTe+CeYeo/mKmJzXwuT1/20HW4upXrHK5epWGrpp6HvTu11q/ETWgaj76dEnB4/gTVaeX1reNVTTG5bwf8Zlj6FR2ye+gG99uINUSGCbBly5ahW7duyMjIwIIFC+rt53jaWy05oYm9qz617kymJfcP1X3ux3cPwme/Hay6L6lFY9w7PB3JCU0Qa1b/0w/orO7djezeDrENpJKIIstdQ1Px0d2DcPd1aW6rAlf8fpiqtyb/YZ2i2JOziY8l7GseG+7T85TB2a2denG2yWTCP36Vi+IFE3HbNfo71wdLu2s+YJ9zvuf6dHQJYKkLYJ86KF4wEW/+3P7huG+nBBycN0H3uU9N7BHQsoBoZogiDpvNhvvuuw8rVqxAx44dkZOTg8mTJ6Nnz54h/1l3Dk1F3tpDzoWbax8bgcbx6iCZntMZQ9ITcVWzeJcFnglN43DusgXd2rdAm+auK/kfH9cdj4/rjp0nzqvu92W3BKJIkdmuBTLbtXCWeD90Q1c8dENXSJKAVRL48oeTSNR5/8vkYpDMpObo0sb9adNa91yfhjMXajDHw5zyc5OzcN+IDFwz3/dSdQC4dVBnvHhTb1yutaLnM8tdHn/vjhzYhNDduHfVw9ej8HAFJAHnUoND8yag61Nfu5wqsXBqHzz+mX2x9kvT+gIAJvXpgL4dE9C+lf14pKUPXKdaVxboouxoZ4gAKywsREZGBtLS7PNIM2bMwBdffFEvATZnfHe0aRaPu4amAoDbRcTuhjRk3iZSlQ/PzO3E3hYZUuGToxCveO+azSa8PrO/1+H25/+nF24fkqK7XZMnc8Z73wotxmxC+1aNMWd8d5Scr0ZVrQ0DuiTg5oGdsGRHCf66+iCemtgDW4+cRXZKa8z8u70ysaujV6fdTeSb3w9D59ZNnb0fve29YmPMGJJh3/3i03sGI7F5PMxmExKaxqu2lEpp0xRjs9rjg03FeGNmf6QpFhwr/6bIhS8VlbXOnUHIlSEC7MSJE+jUqW7yuGPHjvjuO88LKgNlMtmHBPyxac5IDJ5fgDE926F3cissWrHfZY5Lq2u7FrguMxFD0hNxz7DoPfOKoltSi8DXG9X3bhF6v8eT+3bA5L4dAMAZOIfnT8DGg+Wqc882zxmFQ2WXkNKmmd/br+Wm1q27nDowGX9bY99JY8uTNyCxeTxMJhPyH7jOp2uFaz2qURgiwHyVl5eHvLw8AEBpqW87AYTC1a2a4MCL42E2mWA2m3C/h/OaZHExZnyoqUQkoivPZDLh2gz13oHtWzUOyWLgP4ztjt7JrfDu+sNo3Sy+QZW4XwmGCLDk5GQcO1a35czx48eRnJzs8rxZs2Zh1qxZAIDsbP21I/WFQ4BEpGU2mzCpTwdM6tMh3E2JSob4q5uTk4OffvoJhw8fRm1tLT755BNMnjw53M0iIqIwMkQPLDY2Fm+++SbGjh0Lm82GO++8E1lZWd6/kYiIopYhAgwAJkyYgAkT9NdHEBFRw2OIIUQiIiItBhgRERkSA4yIiAyJAUZERIbEACMiIkMyCRGdG20lJiYiJSUloO8tLS1F27ZX7miGSNDQXnNDe71Aw3vNDe31AqF5zcXFxSgrKwtRi+pX1AZYMLKzs1FUVBTuZlxRDe01N7TXCzS819zQXi/Q8F4zhxCJiMiQGGBERGRIMc8999xz4W5EJBo4cGC4m3DFNbTX3NBeL9DwXnNDe71Aw3rNnAMjIiJD4hAiEREZEgNMY9myZejWrRsyMjKwYMGCcDfHL3feeSeSkpLQq1cv530VFRUYPXo0MjMzMXr0aJw9exYAIITAAw88gIyMDPTp0wfbtm1zfs8HH3yAzMxMZGZm4oMPPnDev3XrVvTu3RsZGRl44IEHEO7O+7FjxzBixAj07NkTWVlZeO211wBE92uurq5Gbm4u+vbti6ysLDz77LMAgMOHD2PQoEHIyMjA9OnTUVtbCwCoqanB9OnTkZGRgUGDBqG4uNh5rfnz5yMjIwPdunXD8uXLnfdH4u+AzWZD//79MWnSJADR/3pTUlLQu3dv9OvXz3m2YTS/rwMmyMlqtYq0tDRx8OBBUVNTI/r06SN27doV7mb5bM2aNWLr1q0iKyvLed9jjz0m5s+fL4QQYv78+eLxxx8XQgiRn58vxo0bJyRJEps2bRK5ublCCCHKy8tFamqqKC8vFxUVFSI1NVVUVFQIIYTIyckRmzZtEpIkiXHjxomlS5de4VeodvLkSbF161YhhBAXLlwQmZmZYteuXVH9miVJEhcvXhRCCFFbWytyc3PFpk2bxM033ywWL14shBDinnvuEW+//bYQQoi33npL3HPPPUIIIRYvXixuueUWIYQQu3btEn369BHV1dXi0KFDIi0tTVit1oj9HVi0aJGYOXOmmDhxohBCRP3r7dKliygtLVXdF83v60AxwBQ2btwoxowZ47w9b948MW/evDC2yH+HDx9WBVjXrl3FyZMnhRD2P/hdu3YVQggxa9Ys8fHHH7s87+OPPxazZs1y3i8/7+TJk6Jbt27O+7XPiwSTJ08W33zzTYN5zZWVlaJ///5i8+bNok2bNsJisQgh1O/jMWPGiI0bNwohhLBYLKJNmzZCkiSX97b8vEj8HTh27JgYOXKkWLVqlZg4caKQJCmqX68Q+gHWUN7X/uAQosKJEyfQqVMn5+2OHTvixIkTYWxR8E6fPo2rr74aANC+fXucPn0agPvX6un+jh07utwfKYqLi7F9+3YMGjQo6l+zzWZDv379kJSUhNGjRyM9PR0JCQmIjbUf76dsp/K1xcbGolWrVigvL/f73yKcHnroISxcuBBms/3PVXl5eVS/XgAwmUwYM2YMBg4ciLy8PAAN53fZH4Y50JKCZzKZYDKZwt2MkLt06RKmTp2KV199FS1btlQ9Fo2vOSYmBt9//z3OnTuHm266CXv37g13k+rNkiVLkJSUhIEDB2L16tXhbs4Vs379eiQnJ+PMmTMYPXo0unfvrno8Gt/XgWAPTCE5ORnHjh1z3j5+/DiSk5PD2KLgtWvXDiUlJQCAkpISJCUlAXD/Wj3df/z4cZf7w81isWDq1Km49dZbMWXKFADR/5plCQkJGDFiBDZt2oRz587BarUCULdT+dqsVivOnz+PNm3a+P1vES4bNmzAl19+iZSUFMyYMQMFBQV48MEHo/b1yuQ2JCUl4aabbkJhYWGDeV/7JdxjmJHEYrGI1NRUcejQIeeE7s6dO8PdLL9o58AeffRR1cTvY489JoQQYsmSJaqJ35ycHCGEfeI3JSVFVFRUiIqKCpGSkiLKy8uFEK4Tv/n5+Vf41alJkiRuu+028eCDD6ruj+bXfObMGXH27FkhhBCXL18WQ4cOFV999ZWYNm2aqqjhrbfeEkII8eabb6qKGm6++WYhhBA7d+5UFTWkpqYKq9Ua0b8D3377rbOII5pf76VLl8SFCxecXw8ePFh8/fXXUf2+DhQDTCM/P19kZmaKtLQ0MXfu3HA3xy8zZswQ7du3F7GxsSI5OVm88847oqysTIwcOVJkZGSIUaNGOd/AkiSJe++9V6SlpYlevXqJLVu2OK/z7rvvivT0dJGeni7ee+895/1btmwRWVlZIi0tTdx3331CkqQr/hqV1q1bJwCI3r17i759+4q+ffuK/Pz8qH7NP/zwg+jXr5/o3bu3yMrKEs8//7wQQoiDBw+KnJwckZ6eLqZNmyaqq6uFEEJUVVWJadOmifT0dJGTkyMOHjzovNbcuXNFWlqa6Nq1q6oKLVJ/B5QBFs2v9+DBg6JPnz6iT58+omfPns42RfP7OlDciYOIiAyJc2BERGRIDDAiIjIkBhgRERkSA4yIiAyJAUZERIbEACMiIkNigBERkSExwIiIyJAYYEREZEgMMCIiMiQGGBERGRIDjIiIDIkBRkREhsQAIyIiQ2KAERGRITHAiIjIkBhgRERkSAwwIiIyJAYYEREZEgOMiIgM6f8BmXhtlionpdIAAAAASUVORK5CYII='"
      ]
     },
     "execution_count": 107,
     "metadata": {},
     "output_type": "execute_result"
    }
   ],
   "source": [
    "encoded_string.decode(\"utf-8\")"
   ]
  },
  {
   "cell_type": "code",
   "execution_count": 108,
   "metadata": {},
   "outputs": [
    {
     "data": {
      "text/plain": [
       "(100,)"
      ]
     },
     "execution_count": 108,
     "metadata": {},
     "output_type": "execute_result"
    }
   ],
   "source": [
    "scale = 5\n",
    "data = predict[:, col]\n",
    "data = data*scale\n",
    "data = data[: 100]\n",
    "data.shape"
   ]
  },
  {
   "cell_type": "code",
   "execution_count": 109,
   "metadata": {},
   "outputs": [],
   "source": [
    "data1 = data\n",
    "data2 = data*1.15\n",
    "data3 = data*0.95\n",
    "data4 = data*1.37"
   ]
  },
  {
   "cell_type": "code",
   "execution_count": 110,
   "metadata": {},
   "outputs": [],
   "source": [
    "curr = train[-1, 1]*scale\n",
    "current1 = curr\n",
    "current2 = curr*1.15\n",
    "current3 = curr*0.95\n",
    "current4 = curr*1.37"
   ]
  },
  {
   "cell_type": "code",
   "execution_count": 111,
   "metadata": {},
   "outputs": [],
   "source": [
    "loc = [[26.188, 91.205],[26.207,90.451],[26.433,92.211], [26.588,92.778]]"
   ]
  },
  {
   "cell_type": "code",
   "execution_count": 112,
   "metadata": {},
   "outputs": [],
   "source": [
    "from datetime import datetime, timedelta"
   ]
  },
  {
   "cell_type": "code",
   "execution_count": 113,
   "metadata": {},
   "outputs": [],
   "source": [
    "X = range(len(data))\n",
    "X = [datetime.time(datetime.now()+timedelta(minutes = i)) for i in X]\n",
    "X[: 5]\n",
    "Y = np.ones((len(X)))*3.5"
   ]
  },
  {
   "cell_type": "code",
   "execution_count": 114,
   "metadata": {},
   "outputs": [
    {
     "data": {
      "image/png": "[encoded data removed]",
      "text/plain": [
       "<Figure size 432x288 with 1 Axes>"
      ]
     },
     "metadata": {
      "needs_background": "light"
     },
     "output_type": "display_data"
    }
   ],
   "source": [
    "plt.plot(X, data1, label='Water Level')\n",
    "plt.plot(X, Y, label='Danger Level')\n",
    "plt.ylabel('Water Level')\n",
    "plt.title('Water Discharge predictions at Station 1')\n",
    "plt.legend(loc='center right')\n",
    "plt.savefig('sub1.png')\n",
    "plt.show()"
   ]
  },
  {
   "cell_type": "code",
   "execution_count": 115,
   "metadata": {},
   "outputs": [
    {
     "data": {
      "image/png": "[encoded data removed]",
      "text/plain": [
       "<Figure size 432x288 with 1 Axes>"
      ]
     },
     "metadata": {
      "needs_background": "light"
     },
     "output_type": "display_data"
    }
   ],
   "source": [
    "plt.plot(X, data2, label='Water Level')\n",
    "plt.plot(X, Y, label='Danger Level')\n",
    "plt.ylabel('Water Level')\n",
    "plt.title('Water Discharge predictions at Station 2')\n",
    "plt.legend(loc='center right')\n",
    "plt.savefig('sub2.png')\n",
    "plt.show()"
   ]
  },
  {
   "cell_type": "code",
   "execution_count": 116,
   "metadata": {},
   "outputs": [
    {
     "data": {
      "image/png": "[encoded data removed]",
      "text/plain": [
       "<Figure size 432x288 with 1 Axes>"
      ]
     },
     "metadata": {
      "needs_background": "light"
     },
     "output_type": "display_data"
    }
   ],
   "source": [
    "plt.plot(X, data3, label='Water Level')\n",
    "plt.plot(X, Y, label='Danger Level')\n",
    "plt.ylabel('Water Level')\n",
    "plt.title('Water Discharge predictions at Station 3')\n",
    "plt.legend(loc='center right')\n",
    "plt.savefig('sub3.png')\n",
    "plt.show()"
   ]
  },
  {
   "cell_type": "code",
   "execution_count": 117,
   "metadata": {},
   "outputs": [
    {
     "data": {
      "image/png": "[encoded data removed]",
      "text/plain": [
       "<Figure size 432x288 with 1 Axes>"
      ]
     },
     "metadata": {
      "needs_background": "light"
     },
     "output_type": "display_data"
    }
   ],
   "source": [
    "plt.plot(X, data4, label='Water Level')\n",
    "plt.plot(X, Y, label='Danger Level')\n",
    "plt.ylabel('Water Level')\n",
    "plt.title('Water Discharge predictions at Station 4')\n",
    "plt.legend(loc='center right')\n",
    "plt.savefig('sub4.png')\n",
    "plt.show()"
   ]
  },
  {
   "cell_type": "code",
   "execution_count": 118,
   "metadata": {},
   "outputs": [],
   "source": [
    "import base64\n",
    "with open(\"sub1.png\", \"rb\") as image:\n",
    "    string1 = base64.b64encode(image.read()).decode(\"utf-8\")\n",
    "with open(\"sub2.png\", \"rb\") as image:\n",
    "    string2 = base64.b64encode(image.read()).decode(\"utf-8\")\n",
    "with open(\"sub3.png\", \"rb\") as image:\n",
    "    string3 = base64.b64encode(image.read()).decode(\"utf-8\")\n",
    "with open(\"sub4.png\", \"rb\") as image:\n",
    "    string4 = base64.b64encode(image.read()).decode(\"utf-8\")"
   ]
  },
  {
   "cell_type": "code",
   "execution_count": 119,
   "metadata": {},
   "outputs": [],
   "source": [
    "import json\n",
    "import pandas as pd\n",
    "from pymongo import MongoClient"
   ]
  },
  {
   "cell_type": "code",
   "execution_count": 120,
   "metadata": {},
   "outputs": [],
   "source": [
    "client_url=\"mongodb://yash-kothari:iNMDaoEEkYOPqHsTJ5cUigMb8wFWHsQGBaefdDNvSIwzEzjhtTGsHh20Ak6J3pH07lqid9CQxcg7Uet0UYLuYg==@yash-kothari.documents.azure.com:10255/?ssl=true&replicaSet=globaldb\"\n",
    "client = MongoClient(client_url)\n",
    "db=client.django"
   ]
  },
  {
   "cell_type": "code",
   "execution_count": 121,
   "metadata": {},
   "outputs": [],
   "source": [
    "id = 1"
   ]
  },
  {
   "cell_type": "code",
   "execution_count": 73,
   "metadata": {},
   "outputs": [
    {
     "data": {
      "text/plain": [
       "<pymongo.results.UpdateResult at 0x7fa41f635a48>"
      ]
     },
     "execution_count": 73,
     "metadata": {},
     "output_type": "execute_result"
    }
   ],
   "source": [
    "var = db.variables\n",
    "value = var.find_one({\"ID\": \"FloodID\"})['Value']\n",
    "var.update_one({\"ID\": \"FloodID\"}, {'$set': {\"Value\": value + 1}})"
   ]
  },
  {
   "cell_type": "code",
   "execution_count": 77,
   "metadata": {},
   "outputs": [],
   "source": [
    "dict = []\n",
    "dict.append({\"location\": loc[0],\"plot\": string1, \"current\": current1})\n",
    "dict.append({\"location\": loc[1],\"plot\": string2, \"current\": current2})\n",
    "dict.append({\"location\": loc[2],\"plot\": string3, \"current\": current3})\n",
    "dict.append({\"location\": loc[3],\"plot\": string4, \"current\": current4})"
   ]
  },
  {
   "cell_type": "code",
   "execution_count": 78,
   "metadata": {},
   "outputs": [],
   "source": [
    "col = db.substation\n",
    "var = db.variables\n",
    "value = var.find_one({\"ID\": \"FloodID\"})['Value']\n",
    "var.update_one({\"ID\": \"FloodID\"}, {'$set': {\"Value\": value + 1}})"
   ]
  },
  {
   "cell_type": "code",
   "execution_count": 79,
   "metadata": {},
   "outputs": [
    {
     "data": {
      "text/plain": [
       "<pymongo.results.InsertOneResult at 0x7fa41ef99148>"
      ]
     },
     "execution_count": 79,
     "metadata": {},
     "output_type": "execute_result"
    }
   ],
   "source": [
    "col.insert_one({\"id\": dict, \"Value\": value})"
   ]
  },
  {
   "cell_type": "code",
   "execution_count": 55,
   "metadata": {},
   "outputs": [],
   "source": [
    "id = id+1"
   ]
  },
  {
   "cell_type": "code",
   "execution_count": null,
   "metadata": {},
   "outputs": [],
   "source": []
  }
 ],
 "metadata": {
  "kernelspec": {
   "display_name": "Python 3",
   "language": "python",
   "name": "python3"
  },
  "language_info": {
   "codemirror_mode": {
    "name": "ipython",
    "version": 3
   },
   "file_extension": ".py",
   "mimetype": "text/x-python",
   "name": "python",
   "nbconvert_exporter": "python",
   "pygments_lexer": "ipython3",
   "version": "3.5.2"
  }
 },
 "nbformat": 4,
 "nbformat_minor": 2
}
